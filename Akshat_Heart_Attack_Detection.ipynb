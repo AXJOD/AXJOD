{
  "metadata": {
    "kernelspec": {
      "language": "python",
      "display_name": "Python 3",
      "name": "python3"
    },
    "language_info": {
      "name": "python",
      "version": "3.7.9",
      "mimetype": "text/x-python",
      "codemirror_mode": {
        "name": "ipython",
        "version": 3
      },
      "pygments_lexer": "ipython3",
      "nbconvert_exporter": "python",
      "file_extension": ".py"
    },
    "kaggle": {
      "accelerator": "none",
      "dataSources": [
        {
          "sourceId": 43520,
          "sourceType": "datasetVersion",
          "datasetId": 33180
        },
        {
          "sourceId": 1043970,
          "sourceType": "datasetVersion",
          "datasetId": 576697
        }
      ],
      "dockerImageVersionId": 30060,
      "isInternetEnabled": false,
      "language": "python",
      "sourceType": "notebook",
      "isGpuEnabled": false
    },
    "colab": {
      "name": "Akshat - Heart Attack Detection",
      "provenance": [],
      "include_colab_link": true
    }
  },
  "nbformat_minor": 0,
  "nbformat": 4,
  "cells": [
    {
      "cell_type": "markdown",
      "metadata": {
        "id": "view-in-github",
        "colab_type": "text"
      },
      "source": [
        "<a href=\"https://colab.research.google.com/github/AXJOD/AXJOD/blob/main/Akshat_Heart_Attack_Detection.ipynb\" target=\"_parent\"><img src=\"https://colab.research.google.com/assets/colab-badge.svg\" alt=\"Open In Colab\"/></a>"
      ]
    },
    {
      "source": [
        "# IMPORTANT: RUN THIS CELL IN ORDER TO IMPORT YOUR KAGGLE DATA SOURCES,\n",
        "# THEN FEEL FREE TO DELETE THIS CELL.\n",
        "# NOTE: THIS NOTEBOOK ENVIRONMENT DIFFERS FROM KAGGLE'S PYTHON\n",
        "# ENVIRONMENT SO THERE MAY BE MISSING LIBRARIES USED BY YOUR\n",
        "# NOTEBOOK.\n",
        "import kagglehub\n",
        "cherngs_heart_disease_cleveland_uci_path = kagglehub.dataset_download('cherngs/heart-disease-cleveland-uci')\n",
        "\n",
        "print('Data source import complete.')\n"
      ],
      "metadata": {
        "id": "nBYuaR6jo26i"
      },
      "cell_type": "code",
      "outputs": [],
      "execution_count": null
    },
    {
      "cell_type": "markdown",
      "source": [
        "# Feature Importance on Heart Disease Dataset"
      ],
      "metadata": {
        "id": "3gqJWi7Ko26s"
      }
    },
    {
      "cell_type": "markdown",
      "source": [
        "Installing the required dependencies"
      ],
      "metadata": {
        "id": "mw7xc8yCo26v"
      }
    },
    {
      "cell_type": "markdown",
      "source": [
        "eXplainable AI or XAI in short, is basically a way to remove the ambiguity in machine learning methods and to enable transparency so that the outcomes of black-box models can be easily understood by humans.\n",
        "\n",
        "Why XAI -\n",
        "With AI forming the future of all complex decision-making, it is crucial to know how and why these decisions were made. Artificial Intelligence clearly enhances the speed, precision, and effectiveness of human efforts. For example, AI techniques can be used to identify which transactions are likely to be fraudulent, as well as automate manually intense data management tasks in financial institutions, or it can be useful for face recognition in cameras.\n",
        "\n",
        "However, consider an AI-powered medical diagnosis system that predicts cancer or heart disease in a patient previously diagnosed as healthy by medical experts. Human life cannot be put to risk unless the predictions of the models are transparent and provide a legitimate reason for the result. If an AI system provides counterintuitive advice when picking stocks or an AI autonomous vehicle drives unpredictably and causes a fatal collision despite normal road conditions, then in such cases, it’s essential to know why the model took the decisions and behaved in the way it did. This is where XAI comes into the picture. It has the potential to explain the underlying black-box processes and to provide trust in AI."
      ],
      "metadata": {
        "id": "pkODvnHdo26w"
      }
    },
    {
      "cell_type": "code",
      "source": [
        "!pip install eli5\n",
        "!pip install pdpbox\n",
        "!pip install shap"
      ],
      "metadata": {
        "id": "5JEtzZ-4N6AK",
        "trusted": true,
        "execution": {
          "iopub.status.busy": "2024-11-06T18:53:48.604929Z",
          "iopub.execute_input": "2024-11-06T18:53:48.605473Z"
        }
      },
      "outputs": [],
      "execution_count": null
    },
    {
      "cell_type": "code",
      "source": [
        "from collections import defaultdict\n",
        "import pandas as pd\n",
        "import matplotlib.pyplot as plt\n",
        "import numpy as np\n",
        "import seaborn as sns\n",
        "from scipy.stats import spearmanr\n",
        "from scipy.cluster import hierarchy\n",
        "from sklearn.datasets import load_breast_cancer\n",
        "from sklearn.ensemble import RandomForestClassifier\n",
        "from sklearn.inspection import permutation_importance\n",
        "from sklearn.model_selection import train_test_split\n",
        "from sklearn import metrics\n",
        "from sklearn.metrics import accuracy_score, roc_curve, auc\n",
        "from xgboost import XGBClassifier, plot_importance\n",
        "import warnings\n",
        "import eli5\n",
        "import shap\n",
        "from eli5.sklearn import PermutationImportance\n",
        "from pdpbox import pdp, get_dataset, info_plots\n",
        "from sklearn.tree import DecisionTreeClassifier\n",
        "warnings.filterwarnings('ignore')\n",
        "plt.style.use('fivethirtyeight')\n",
        "%matplotlib inline"
      ],
      "metadata": {
        "id": "U_OXk3DMIIp8",
        "trusted": true
      },
      "outputs": [],
      "execution_count": null
    },
    {
      "cell_type": "markdown",
      "source": [
        "Reading the data"
      ],
      "metadata": {
        "id": "-hb1NIfxo26y"
      }
    },
    {
      "cell_type": "code",
      "source": [
        "data = pd.read_csv('../input/heart-disease-cleveland-uci/heart_cleveland_upload.csv')\n",
        "# To display the top 5 rows\n",
        "data.head(5)"
      ],
      "metadata": {
        "id": "OkYBYglfHcVk",
        "trusted": true
      },
      "outputs": [],
      "execution_count": null
    },
    {
      "cell_type": "code",
      "source": [
        "data.describe()"
      ],
      "metadata": {
        "id": "YfKjiVluIkBA",
        "trusted": true
      },
      "outputs": [],
      "execution_count": null
    },
    {
      "cell_type": "code",
      "source": [
        "data.shape"
      ],
      "metadata": {
        "id": "VDy_pZS0JJ0K",
        "trusted": true
      },
      "outputs": [],
      "execution_count": null
    },
    {
      "cell_type": "code",
      "source": [
        "heart = data.copy()"
      ],
      "metadata": {
        "id": "Bd5Bfk7hJMG-",
        "trusted": true
      },
      "outputs": [],
      "execution_count": null
    },
    {
      "cell_type": "code",
      "source": [
        "target = 'condition'\n",
        "features_list = list(heart.columns)\n",
        "features_list.remove(target)"
      ],
      "metadata": {
        "id": "i07Voc-mJTj2",
        "trusted": true
      },
      "outputs": [],
      "execution_count": null
    },
    {
      "cell_type": "code",
      "source": [
        "y = heart.pop('condition')"
      ],
      "metadata": {
        "id": "ijHivAigKFkv",
        "trusted": true
      },
      "outputs": [],
      "execution_count": null
    },
    {
      "cell_type": "code",
      "source": [
        "X_train, X_test, y_train, y_test = train_test_split(heart, y, test_size=0.2, random_state=33)\n",
        "X_train.shape, X_test.shape"
      ],
      "metadata": {
        "id": "SYkPwV1tKO_R",
        "trusted": true
      },
      "outputs": [],
      "execution_count": null
    },
    {
      "cell_type": "code",
      "source": [
        "%%time\n",
        "\n",
        "# ML in two lines ;)\n",
        "xgb = XGBClassifier(objective='binary:logistic', random_state=33, n_jobs=-1)\n",
        "xgb.fit(X_train, y_train)"
      ],
      "metadata": {
        "id": "I1vnh2HcKUt8",
        "trusted": true
      },
      "outputs": [],
      "execution_count": null
    },
    {
      "cell_type": "code",
      "source": [
        "# make predictions for test data\n",
        "xgb_predictions = xgb.predict(X_test)"
      ],
      "metadata": {
        "id": "AEmRsQMiKYp7",
        "trusted": true
      },
      "outputs": [],
      "execution_count": null
    },
    {
      "cell_type": "markdown",
      "source": [
        "## Permutation Importance"
      ],
      "metadata": {
        "id": "Hex-ZA38o264"
      }
    },
    {
      "cell_type": "code",
      "source": [
        "import eli5\n",
        "from eli5.sklearn import PermutationImportance"
      ],
      "metadata": {
        "id": "LcPZV0i1Lm2t",
        "trusted": true
      },
      "outputs": [],
      "execution_count": null
    },
    {
      "cell_type": "code",
      "source": [
        "eli5.show_weights(xgb.get_booster(), top=15)"
      ],
      "metadata": {
        "id": "IpmzQ4_2Lpc3",
        "trusted": true
      },
      "outputs": [],
      "execution_count": null
    },
    {
      "cell_type": "markdown",
      "source": [
        "This diagram shows us the most important features of the dataset of Heart Disease. The three most important features are as follows:\n",
        "\n",
        "\n",
        "1.   cp (Chest Pain Type) - There are four types of angina, depending on the number of symptoms the patient experiences.\n",
        "  i. 0 - Typical Angina - Having all 3 major symptoms of Angina\n",
        "  ii. 1 - Atypical Angina - Having 2 out of the 3 major symptoms of Angina\n",
        "  iii. 2 - Non-Anginal Pain - Having one symptom\n",
        "  iv. 3 - Asymptomatic\n",
        "  \n",
        "  The severity of Angina is as follows:\n",
        "  \n",
        "  Typical Angina < Atypical Angina < Non-Anginal Pain < Asymptomatic\n",
        "2.   thal (Thallium Test) - A thallium test is a test used to check how much blood is reaching different parts of the heart by using a radioactive tracer. They help the doctors to check the blood supply.\n",
        "  i. 0 - Normal results (no complications)\n",
        "  ii. 1 - Fixed Defect - Blood supply is blocked at one or more parts of the heart\n",
        "  iii. 2 - Reversible Defect - Blood supply is blocked at some parts, but it restributes after some time, hence, it's not permanent.\n",
        "3.   ca (Number of blocked vessels) - The heart has three main vessels for blood supply. By applying angiography, the doctor can see the results of how many vessels are blocked.\n",
        "  i. 0 - No vessels are blocked\n",
        "  ii. 1 - 1 vessels are blocked\n",
        "  iii. 2 - 2 vessels are blocked\n",
        "  iv. 3 - 3 vessels are blocked\n"
      ],
      "metadata": {
        "id": "IOdJcXtD3qN9"
      }
    },
    {
      "cell_type": "code",
      "source": [
        "tgt = 6\n",
        "print('Reference:', y_test.iloc[tgt])\n",
        "print('Predicted:', xgb_predictions[tgt])\n",
        "eli5.show_prediction(xgb.get_booster(), X_test.iloc[tgt],\n",
        "                     feature_names=list(heart.columns), show_feature_values=True)"
      ],
      "metadata": {
        "id": "PL6cRnsLLzEn",
        "trusted": true
      },
      "outputs": [],
      "execution_count": null
    },
    {
      "cell_type": "markdown",
      "source": [
        "We have taken a local example here. We can see that the top 4 features contributing to the prediction of the feature are oldpeak, ca, cp and thal.\n",
        "\n",
        "Oldpeak, which is the most important feature in this prediction is related to the electrocardiograph results of the patient. If the electrocardiograph shows a ST Depression (indicating that the patient is suffering from myocardial ischaemia), the value of oldpeak shows us the level of the ST Depression. The more the depression, the likelier it is that the patient is suffering from heart disease."
      ],
      "metadata": {
        "id": "ttff1TaD7Sd_"
      }
    },
    {
      "cell_type": "code",
      "source": [
        "%%time\n",
        "\n",
        "# we need to retrain a new model with arrays\n",
        "# as eli5 has a bug with Dataframes and XGBoost\n",
        "# cf. https://github.com/TeamHG-Memex/eli5/pull/261\n",
        "xgb_array = XGBClassifier(objective='binary:logistic', random_state=33, n_jobs=-1)\n",
        "xgb_array.fit(X_train.values, y_train)"
      ],
      "metadata": {
        "id": "YMDQ-jsjM3Uw",
        "trusted": true
      },
      "outputs": [],
      "execution_count": null
    },
    {
      "cell_type": "code",
      "source": [
        "model = DecisionTreeClassifier(random_state=1)\n",
        "model = model.fit(X_train, y_train)"
      ],
      "metadata": {
        "id": "IkE6Ncy6M9Qp",
        "trusted": true
      },
      "outputs": [],
      "execution_count": null
    },
    {
      "cell_type": "code",
      "source": [
        "permutation = PermutationImportance(model, random_state=33).fit(X_train, y_train)"
      ],
      "metadata": {
        "id": "Mmlxe-skOQnx",
        "trusted": true
      },
      "outputs": [],
      "execution_count": null
    },
    {
      "cell_type": "code",
      "source": [
        "eli5.show_weights(permutation, feature_names = features_list, top=30)"
      ],
      "metadata": {
        "id": "ipalH_HAOUYO",
        "trusted": true
      },
      "outputs": [],
      "execution_count": null
    },
    {
      "cell_type": "markdown",
      "source": [
        "## PDP"
      ],
      "metadata": {
        "id": "tiP6CYO3o266"
      }
    },
    {
      "cell_type": "code",
      "source": [
        "def plot_pdp(model, df, feature, cluster_flag=False, nb_clusters=None, lines_flag=False):\n",
        "    pdp_goals = pdp.pdp_isolate(model=model, dataset=df, model_features=df.columns.tolist(), feature=feature)\n",
        "    pdp.pdp_plot(pdp_goals, feature, cluster=cluster_flag, n_cluster_centers=nb_clusters, plot_lines=lines_flag)\n",
        "    plt.show()"
      ],
      "metadata": {
        "id": "bJCjYSapPea6",
        "trusted": true
      },
      "outputs": [],
      "execution_count": null
    },
    {
      "cell_type": "code",
      "source": [
        "plot_pdp(xgb, X_train, 'thalach')"
      ],
      "metadata": {
        "id": "2u8JKPThPz_v",
        "trusted": true
      },
      "outputs": [],
      "execution_count": null
    },
    {
      "cell_type": "code",
      "source": [
        "plot_pdp(xgb, X_train, 'ca')"
      ],
      "metadata": {
        "id": "WSuy0UZr9smC",
        "trusted": true
      },
      "outputs": [],
      "execution_count": null
    },
    {
      "cell_type": "code",
      "source": [
        "features_to_plot = ['thalach', 'ca']\n",
        "inter1  =  pdp.pdp_interact(model=xgb, dataset=X_train, model_features=features_list, features=features_to_plot)\n",
        "pdp.pdp_interact_plot(pdp_interact_out=inter1, feature_names=features_to_plot, plot_type='grid')\n",
        "plt.show()"
      ],
      "metadata": {
        "id": "Di176RyAQbIZ",
        "trusted": true
      },
      "outputs": [],
      "execution_count": null
    },
    {
      "cell_type": "code",
      "source": [
        "plot_pdp(xgb, X_train, 'thalach', cluster_flag=True, nb_clusters=24, lines_flag=True)"
      ],
      "metadata": {
        "id": "jMMcP11jRCHr",
        "trusted": true
      },
      "outputs": [],
      "execution_count": null
    },
    {
      "cell_type": "code",
      "source": [
        "!conda install -c conda-forge Skater -y"
      ],
      "metadata": {
        "id": "rpCrFxVDRr__",
        "trusted": true
      },
      "outputs": [],
      "execution_count": null
    },
    {
      "cell_type": "code",
      "source": [
        "from skater.core.explanations import Interpretation\n",
        "from skater.model import InMemoryModel"
      ],
      "metadata": {
        "id": "cc_gPBnqREW7",
        "trusted": true
      },
      "outputs": [],
      "execution_count": null
    },
    {
      "cell_type": "code",
      "source": [
        "interpreter = Interpretation(training_data=X_test, feature_names=features_list)\n",
        "im_model = InMemoryModel(xgb.predict_proba, examples=X_train, target_names=['Disease', 'No Disease'])"
      ],
      "metadata": {
        "id": "SZH5QbFVSrkm",
        "trusted": true
      },
      "outputs": [],
      "execution_count": null
    },
    {
      "cell_type": "code",
      "source": [
        "predictions = xgb_array.predict_proba(X_test.values)\n"
      ],
      "metadata": {
        "id": "qks4jMBkTQwo",
        "trusted": true
      },
      "outputs": [],
      "execution_count": null
    },
    {
      "cell_type": "markdown",
      "source": [
        "## LIME"
      ],
      "metadata": {
        "id": "aK5teQmzo269"
      }
    },
    {
      "cell_type": "code",
      "source": [
        "from skater.core.local_interpretation.lime.lime_tabular import LimeTabularExplainer\n",
        "\n",
        "exp = LimeTabularExplainer(X_test.values, feature_names=features_list, discretize_continuous=True, class_names=['No disease', 'Disease'])"
      ],
      "metadata": {
        "id": "XkX1TRE6TRSQ",
        "trusted": true
      },
      "outputs": [],
      "execution_count": null
    },
    {
      "cell_type": "code",
      "source": [
        "tgt = 1\n",
        "print('Reference:', y_test.iloc[tgt])\n",
        "print('Predicted:', predictions[tgt])\n",
        "exp.explain_instance(X_test.iloc[tgt].values, xgb_array.predict_proba).show_in_notebook()"
      ],
      "metadata": {
        "id": "--YifCALTTP4",
        "trusted": true
      },
      "outputs": [],
      "execution_count": null
    },
    {
      "cell_type": "markdown",
      "source": [
        "We explain a local instance using LIME. The final prediction of the model is 0 (The patient is not suffering from heart disease). We can see the feature values that are contributing to this prediction of the model.\n",
        "\n",
        "Looking at the top 3 features and explaining:\n",
        "1. ca = 0. This shows that upon performing an angiography, no vessel of the heart was found to be blocked. This, of course, is wonderful as blocked vessels lead to a lack of blood flow and eventually problems (such as angina). The fact that no vessels are blocked is a great indicator of good health of the heart.\n",
        "2. thal = 0. Upon performing a Thallium test to check the blood flow in the heart, it is found that there are no defects and the results are normal.\n",
        "3. cp = 2. This indicates that the patient is suffering from Non-Anginal pain, which is not as bad as asymptomatic pain."
      ],
      "metadata": {
        "id": "isY7YjzW-MKi"
      }
    },
    {
      "cell_type": "code",
      "source": [
        "tgt = 6\n",
        "print('Reference:', y_test.iloc[tgt])\n",
        "print('Predicted:', predictions[tgt])\n",
        "exp.explain_instance(X_test.iloc[tgt].values, xgb_array.predict_proba).show_in_notebook()"
      ],
      "metadata": {
        "id": "IPrC-q3GBuqY",
        "trusted": true
      },
      "outputs": [],
      "execution_count": null
    },
    {
      "cell_type": "markdown",
      "source": [
        "Looking at another, opposite example here. The prediction made by the model is that the patient is suffering from heart disease. Looking at and understanding the top 3 feature values contributing to this prediction:\n",
        "1. ca = 2. This shows that 2 vessels out of the 3 heart vessels are blocked. This is poor, and leads to an extreme lack of blood flow in and out of the heart. The chances of disease are high due to this.\n",
        "2. thal = 2. It signifies that there were defects initially in the test and that the blood flow isn't at an optimum level. This is coungruent with the earlier factor of there being 2 vessels that are blocked.\n",
        "3. oldpeak = 2.80. The level of ST Depression in the electrocardiograph results is high. The more the depression in the ECG Graph, the more are the chances of the patient being diagnosed with a disease."
      ],
      "metadata": {
        "id": "9UgySTpY_1I4"
      }
    },
    {
      "cell_type": "code",
      "source": [
        "tgt = 15\n",
        "print('Reference:', y_test.iloc[tgt])\n",
        "print('Predicted:', predictions[tgt])\n",
        "exp.explain_instance(X_test.iloc[tgt].values, xgb_array.predict_proba).show_in_notebook()"
      ],
      "metadata": {
        "id": "kr0CclJ6TXZf",
        "trusted": true
      },
      "outputs": [],
      "execution_count": null
    },
    {
      "cell_type": "markdown",
      "source": [
        "We have looked at two extreme cases. Now, let's look at a case where the model predicted that the patient is suffering from angina but the result is not as obvious. Looking at the top 3 features.\n",
        "1. ca = 0. This shows us that no vessels are blocked. This is a good sign, and leads the model to think that the patient does not have a heart disease.\n",
        "2. thal = 2. Acting against ca, thallium test shows us that there are some defects in the blood supply and heart cells of the patient. This is a great example that shows us that in real life, results are mixed more often than not.\n",
        "3. cp = 3. The patient is suffering from chest pain type 3 (asymptomatic pain). This sounds counter intuitive, but asymptomatic pain is actually the most severe out of all 4 possible chest pain types. So, this leads the model to making a prediction that the patient has a heart disease."
      ],
      "metadata": {
        "id": "UFYglyc5BlXA"
      }
    },
    {
      "cell_type": "markdown",
      "source": [
        "## SHAP"
      ],
      "metadata": {
        "id": "B5OoTMcLo27F"
      }
    },
    {
      "cell_type": "code",
      "source": [
        "# pip install shap\n",
        "import shap\n",
        "\n",
        "# load JS visualization code to notebook\n",
        "shap.initjs()"
      ],
      "metadata": {
        "id": "NrjVKwKCUt_h",
        "trusted": true
      },
      "outputs": [],
      "execution_count": null
    },
    {
      "cell_type": "code",
      "source": [
        "# explain the model's predictions using SHAP values\n",
        "# (same syntax works for LightGBM, CatBoost, and scikit-learn models)\n",
        "explainer = shap.TreeExplainer(xgb)\n",
        "shap_values = explainer.shap_values(X_test)"
      ],
      "metadata": {
        "id": "Rwt_Yuj_Uw8G",
        "trusted": true
      },
      "outputs": [],
      "execution_count": null
    },
    {
      "cell_type": "code",
      "source": [
        "X_shap = pd.DataFrame(shap_values)\n",
        "X_shap.head()"
      ],
      "metadata": {
        "id": "CLUW6p5BU1pn",
        "trusted": true
      },
      "outputs": [],
      "execution_count": null
    },
    {
      "cell_type": "code",
      "source": [
        "print('Expected Value: ', explainer.expected_value)"
      ],
      "metadata": {
        "id": "H3uIfeV3U3r9",
        "trusted": true
      },
      "outputs": [],
      "execution_count": null
    },
    {
      "cell_type": "code",
      "source": [
        "shap.summary_plot(shap_values, X_test, plot_type=\"bar\", color='red')\n"
      ],
      "metadata": {
        "id": "Ns3DBJImU7Pi",
        "trusted": true
      },
      "outputs": [],
      "execution_count": null
    },
    {
      "cell_type": "markdown",
      "source": [
        "Getting feature importance values using SHAP, we see similar results. ca, thal, cp and oldpeak are few of the most important features."
      ],
      "metadata": {
        "id": "tp74s1KgC4of"
      }
    },
    {
      "cell_type": "markdown",
      "source": [
        "We have explained the local instances using SHAP, similar to the LIME explanations, just visualised in a different way."
      ],
      "metadata": {
        "id": "aSVm5Ui3DycN"
      }
    },
    {
      "cell_type": "code",
      "source": [
        "shap.initjs()\n",
        "shap.force_plot(explainer.expected_value, shap_values[1,:], X_test.iloc[1,:])"
      ],
      "metadata": {
        "id": "tB5iKo4EU-Rj",
        "trusted": true
      },
      "outputs": [],
      "execution_count": null
    },
    {
      "cell_type": "code",
      "source": [
        "shap.initjs()\n",
        "shap.force_plot(explainer.expected_value, shap_values[6,:], X_test.iloc[6,:])"
      ],
      "metadata": {
        "id": "4OmVbvsJVpOQ",
        "trusted": true
      },
      "outputs": [],
      "execution_count": null
    },
    {
      "cell_type": "code",
      "source": [
        "shap.initjs()\n",
        "shap.force_plot(explainer.expected_value, shap_values[15,:], X_test.iloc[15,:])"
      ],
      "metadata": {
        "id": "9lJl8fjhDvpy",
        "trusted": true
      },
      "outputs": [],
      "execution_count": null
    },
    {
      "cell_type": "markdown",
      "source": [
        "We have looked at two extreme cases. Now, let's look at a case where the model predicted that the patient is suffering from angina but the result is not as obvious. Looking at the top 3 features.\n",
        "1. ca = 0. This shows us that no vessels are blocked. This is a good sign, and leads the model to think that the patient does not have a heart disease.\n",
        "2. thal = 0. Acting against ca, thallium test shows us that there are some defects in the blood supply and heart cells of the patient. This is a great example that shows us that in real life, results are mixed more often than not.\n",
        "3. cp = 3. The patient is suffering from chest pain type 3 (asymptomatic pain). This sounds counter intuitive, but asymptomatic pain is actually the most severe out of all 4 possible chest pain types. So, this leads the model to making a prediction that the patient has a heart disease.\n",
        "\n",
        "Using SHAP, we have seen two extreme cases in the same fashion as LIME. Now, we look at a local explanation that isn't as extreme. We see a good mix of Red and Blue feature values from the figure shown above. Looking at both cases individually:\n",
        "\n",
        "1. The most important feature values influencing the model to make the decision that the patient has a heart disease are thal=2 (Showing that there are some defects in the blood supply and the quality of heart cells of the patient), cp=3 (Showing that the type of chest pain is asymptomatic. This may seem counterintuitive, but asymptomatic chest pain is actually the most severe out of the four types, which leads the model to believe that the patient has a heart disease.)  and chol=307 (High cholestrol leads to blockage of blood vessels of the heart and decreases the overall blood flow in and around the heart).\n",
        "\n",
        "2. The most important feature value influencing the model to make the decision that the patient does not have a heart disease are ca = 0. This is perhaps the most important feature, and from this we realise that none of the vessels of the patient are blocked.  "
      ],
      "metadata": {
        "id": "cFYzfdh35zW2"
      }
    },
    {
      "cell_type": "code",
      "source": [
        "shap.initjs()\n",
        "shap.force_plot(explainer.expected_value, shap_values[:1000,:], X_test.iloc[:1000,:])"
      ],
      "metadata": {
        "id": "mxGlrK5kWCK1",
        "trusted": true
      },
      "outputs": [],
      "execution_count": null
    },
    {
      "cell_type": "markdown",
      "source": [
        "This is a global explanation of the predictions of the model. -0.3918 is the base value as obtained using the SHAP Values. This means that if the total value is more than -0.3918, it signifies that the patient has the disease and if it is less than -0.3918, it signifies that the patient does not have the disease. The blue part of the graph pushes the prediction lower, and the red part is responsible for increasing it. This means that the instances in which there are a lot more red colored features will usually be 1 (having a disease) and vice versa."
      ],
      "metadata": {
        "id": "QogwLgm9D1z2"
      }
    },
    {
      "cell_type": "code",
      "source": [
        "shap.initjs()\n",
        "shap.summary_plot(shap_values, X_test)"
      ],
      "metadata": {
        "id": "4avqpkpoWF79",
        "trusted": true
      },
      "outputs": [],
      "execution_count": null
    },
    {
      "cell_type": "markdown",
      "source": [
        "By this beautiful scatter plot graph, we have visualised the effects of the features on the prediction at different values. The color represents the value of the feature. (Blue meaning low, purple meaning the median value and red meaning high). For example, in ca, we see that when the dots are blue, the shap value is negative and when the dots are red and purple, the shap values are mostly positive. This signifies that when no vessels are blocked, chances of disease are low but as the number of vessels blocked increases, so does the chances of having a disease."
      ],
      "metadata": {
        "id": "ne0ia_A2F-RW"
      }
    },
    {
      "cell_type": "code",
      "source": [
        "shap.initjs()\n",
        "shap.dependence_plot(ind='thalach', interaction_index='ca',\n",
        "                     shap_values=shap_values,\n",
        "                     features=X_test,\n",
        "                     display_features=X_test)"
      ],
      "metadata": {
        "id": "ttDDTfb2WKZt",
        "trusted": true
      },
      "outputs": [],
      "execution_count": null
    },
    {
      "cell_type": "markdown",
      "source": [
        "This scatter plot shows us the relation between two features, as well as the SHAP Values. The X-axis shows us thalach (maximum heart rate), the Y-axis shows us the SHAP Values and the color of each dot shows us the value of ca. More often than not, the shap values are low when the value of ca is low. There is also a slight trend of the shap values decreasing as the value of thalach increases."
      ],
      "metadata": {
        "id": "vh_xcOM5F--X"
      }
    }
  ]
}